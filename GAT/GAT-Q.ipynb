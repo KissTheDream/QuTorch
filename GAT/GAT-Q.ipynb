{
 "cells": [
  {
   "cell_type": "code",
   "execution_count": 1,
   "id": "a16513ae-ae48-46e4-a574-9f9836eaaec1",
   "metadata": {},
   "outputs": [],
   "source": [
    "import torch\n",
    "from QuGAT import *"
   ]
  },
  {
   "cell_type": "code",
   "execution_count": 2,
   "id": "c41b8caf-4957-46a6-9a2d-e56ca2e37a41",
   "metadata": {},
   "outputs": [],
   "source": [
    "## 输入数据 ##\n",
    "# 单个特征编码的qubit数目\n",
    "Nqubits=3\n",
    "\n",
    "# 顶点的特征编码\n",
    "num_of_vertex = 3 # 顶点数\n",
    "x1=torch.Tensor([1.,0.,2.,0.,1.,0.,2.,0.]) # 2^(Nqubits) = 8\n",
    "x2=torch.Tensor([0.,1.,1.,0.,0.,1.,1.,0.])\n",
    "x3=torch.Tensor([0.,2.,1.,1.,0.,2.,1.,1.])\n",
    "x = [x1, x2, x3]\n",
    "\n",
    "# 邻接矩阵\n",
    "A =([[1,1,0],\n",
    "     [1,1,1],\n",
    "     [0,1,1]])"
   ]
  },
  {
   "cell_type": "code",
   "execution_count": 3,
   "id": "40b8aaab-5450-4670-8329-280a561f3c58",
   "metadata": {},
   "outputs": [],
   "source": [
    "## 计算过程 ##\n",
    "## 计算x_n -> qx_n, 存在list中 ##\n",
    "\n",
    "qx=[]\n",
    "for n in range(num_of_vertex):\n",
    "    qx.append(vector2rho(x[n]))\n",
    "# return qx\n",
    "\n",
    "# print(len(qx))\n",
    "# print(qx[0].size())"
   ]
  },
  {
   "cell_type": "code",
   "execution_count": 4,
   "id": "d8aeef52-a088-45d5-850d-d518110239bb",
   "metadata": {},
   "outputs": [
    {
     "name": "stdout",
     "output_type": "stream",
     "text": [
      "[[tensor(0.4000+0.j), tensor(0.4000+0.j), tensor(0)], [tensor(1.0000+0.j), tensor(1.0000+0.j), tensor(1.0000+0.j)], [tensor(0), tensor(0.7500+0.j), tensor(0.7500+0.j)]]\n"
     ]
    }
   ],
   "source": [
    "# 构建 QC1\n",
    "QC1 = Cir_Init_Feature(n_qubits=Nqubits*2) # n_qubits暂定,theta_size暂定6\n",
    "\n",
    "sigma_z = z_gate()\n",
    "I = I_gate()\n",
    "ancillia = torch.tensor([[1,0],[0,0]])\n",
    "\n",
    "## 计算alpha_ij，融合qx_i, qx_j,存入alpha_list中\n",
    "alpha_list=[]\n",
    "for i in range(num_of_vertex):\n",
    "    alpha_i = []\n",
    "    for j in A[i]:\n",
    "        if j: # 两个顶点是连接的\n",
    "            qx_ij = torch.kron(qx[i],qx[j]) # 线路的输入\n",
    "            qx_ij_out = QC1.forward(multi_kron([ancillia,qx_ij])) # 通过QC1量子线路\n",
    "            \n",
    "            O_M = multi_kron([sigma_z,I,I,I,I,I,I]) # 测量第一个Qubit的\\sigma_z力学量算符\n",
    "            \n",
    "            alpha_ij = measure(qx_ij_out, O_M) # 进行z方向上的测量\n",
    "            alpha_i.append(alpha_ij)\n",
    "        else: # 两个顶点是*不*连接的\n",
    "            alpha_i.append(torch.tensor(0))\n",
    "    alpha_list.append(alpha_i)\n",
    "\n",
    "print(alpha_list)"
   ]
  },
  {
   "cell_type": "code",
   "execution_count": 5,
   "id": "fa0459cb-7d8c-4750-b283-1dcd17e77b0e",
   "metadata": {},
   "outputs": [],
   "source": [
    "## 将alpha_ij放入量子线路\n",
    "# 这里的alpha_ij是上一个线路的测量值，所以其值域在[0,1]之间。因此需要做一个线性变换，使其能够符合非线性变换的定义域\n",
    "def Nonlinear(theta):\n",
    "    # todo 对theta进行非线性变换\n",
    "    return theta\n"
   ]
  },
  {
   "cell_type": "code",
   "execution_count": 6,
   "id": "0fef4b0d-855d-45bd-ba7f-3d67a984f1ca",
   "metadata": {},
   "outputs": [],
   "source": [
    "# 构建量子线路QC2（XYX构型）\n",
    "# 对每个节点i强化后的特征值作为输入，放入attention score参数量子线路QC2中,最终的输出qax\n",
    "\n",
    "qax=[]\n",
    "for i in range(num_of_vertex):\n",
    "    qaxi=[]\n",
    "    for theta in alpha_list[i]:\n",
    "        if theta != torch.tensor(0):\n",
    "            theta = Nonlinear(theta)\n",
    "            QC2 = Cir_XYX(theta, n_qubits=Nqubits)\n",
    "            u_out = QC2.forward(qx[i])\n",
    "            qaxi.append(u_out)\n",
    "    qax.append(qaxi)\n",
    "\n",
    "# return qax\n",
    "# print(len(qax))\n",
    "# print(qax[2].__len__())"
   ]
  },
  {
   "cell_type": "code",
   "execution_count": 10,
   "id": "c1a14794-a2c9-4c56-9e16-7f85bd38019b",
   "metadata": {},
   "outputs": [],
   "source": [
    "# 构建量子线路QC3，对两个输入相同维度的量子态进行类Sum操作\n",
    "QC3 = Cir_Sum(n_qubits=Nqubits*2)\n",
    "\n",
    "qax_out = []\n",
    "for i in range(num_of_vertex):\n",
    "    q_out = qax[i][0]\n",
    "    for idx in range(len(qax[i])-1): # 对于i所有的邻域节点\n",
    "        q_in = torch.kron(q_out, qax[i][idx+1]) # 2N个qubit资源\n",
    "   \n",
    "        # 通过有CNOT门的量子线路\n",
    "        q_out = QC3.forward(q_in)\n",
    "\n",
    "        # pratial_trace 回到同样的维度\n",
    "        q_out = ptrace(q_out, Nqubits, Nqubits)\n",
    "\n",
    "    qax_out.append(q_out)\n"
   ]
  },
  {
   "cell_type": "code",
   "execution_count": 7,
   "id": "b4ac4748-c2b1-4640-88db-b8cba6b025c5",
   "metadata": {
    "tags": []
   },
   "outputs": [
    {
     "name": "stdout",
     "output_type": "stream",
     "text": [
      "[tensor([[ 0.1208-2.3283e-10j,  0.0073-2.5360e-02j, -0.1159+4.4597e-02j,\n",
      "          0.0023+2.7048e-02j, -0.1540+9.5482e-02j,  0.0107+3.8153e-02j,\n",
      "          0.0481+5.1788e-02j,  0.0138-6.9419e-03j],\n",
      "        [ 0.0073+2.5360e-02j,  0.0308-8.7311e-11j, -0.0164-2.1622e-02j,\n",
      "         -0.0295+1.1361e-02j, -0.0294-2.6535e-02j, -0.0392+2.4324e-02j,\n",
      "         -0.0080+1.3243e-02j,  0.0122+1.3193e-02j],\n",
      "        [-0.1159-4.4597e-02j, -0.0164+2.1622e-02j,  0.1776+4.6566e-09j,\n",
      "          0.0108-3.7285e-02j,  0.2368-4.7650e-02j,  0.0044-5.2635e-02j,\n",
      "          0.0187-6.7702e-02j, -0.0131-8.0444e-03j],\n",
      "        [ 0.0023-2.7048e-02j, -0.0295-1.1361e-02j,  0.0108+3.7285e-02j,\n",
      "          0.0452+2.0373e-10j,  0.0244+4.6837e-02j,  0.0603-1.2139e-02j,\n",
      "          0.0154-1.9361e-04j,  0.0048-1.7247e-02j],\n",
      "        [-0.1540-9.5482e-02j, -0.0294+2.6535e-02j,  0.2368+4.7650e-02j,\n",
      "          0.0244-4.6837e-02j,  0.3967+1.1452e-08j,  0.0241-8.3312e-02j,\n",
      "          0.0468-1.0329e-01j, -0.0188-1.6122e-02j],\n",
      "        [ 0.0107-3.8153e-02j, -0.0392-2.4324e-02j,  0.0044+5.2635e-02j,\n",
      "          0.0603+1.2139e-02j,  0.0241+8.3312e-02j,  0.1011-1.7753e-09j,\n",
      "          0.0245+3.5541e-03j,  0.0119-2.6313e-02j],\n",
      "        [ 0.0481-5.1788e-02j, -0.0080-1.3243e-02j,  0.0187+6.7702e-02j,\n",
      "          0.0154+1.9362e-04j,  0.0468+1.0329e-01j,  0.0245-3.5541e-03j,\n",
      "          0.1019+1.3970e-09j,  0.0062-2.1402e-02j],\n",
      "        [ 0.0138+6.9419e-03j,  0.0122-1.3193e-02j, -0.0131+8.0444e-03j,\n",
      "          0.0048+1.7247e-02j, -0.0188+1.6122e-02j,  0.0119+2.6313e-02j,\n",
      "          0.0062+2.1402e-02j,  0.0260-4.5429e-10j]], grad_fn=<AddBackward0>), tensor([[ 1.1091e-01+4.1327e-09j,  4.2493e-04+3.5348e-03j,\n",
      "         -8.5078e-03-1.2196e-03j,  1.9261e-02-2.2171e-02j,\n",
      "         -1.2696e-02+1.1029e-02j, -1.7976e-03-1.7898e-02j,\n",
      "          3.8720e-02-2.4648e-02j, -1.6118e-04-1.2286e-02j],\n",
      "        [ 4.2493e-04-3.5348e-03j,  5.7581e-02+3.2524e-09j,\n",
      "          1.3789e-02+4.8933e-03j, -4.8207e-03-2.7332e-03j,\n",
      "          9.4130e-03-3.3095e-03j, -3.0359e-02+1.5173e-02j,\n",
      "          6.0420e-07-1.1808e-02j,  2.3968e-04-1.2422e-02j],\n",
      "        [-8.5077e-03+1.2196e-03j,  1.3789e-02-4.8933e-03j,\n",
      "          4.7939e-02+1.0041e-09j, -2.0174e-03-5.8680e-04j,\n",
      "          1.5048e-02-1.9288e-02j,  3.2808e-03+1.0917e-02j,\n",
      "         -2.4675e-02+6.2756e-03j,  4.8119e-04+1.9829e-03j],\n",
      "        [ 1.9261e-02+2.2171e-02j, -4.8207e-03+2.7332e-03j,\n",
      "         -2.0174e-03+5.8680e-04j,  8.6387e-02+7.8471e-09j,\n",
      "         -5.2574e-05+6.4961e-03j,  1.3171e-02-2.5536e-02j,\n",
      "          6.8312e-03+1.7565e-03j, -4.2621e-03-4.8985e-03j],\n",
      "        [-1.2696e-02-1.1029e-02j,  9.4130e-03+3.3095e-03j,\n",
      "          1.5048e-02+1.9288e-02j, -5.2568e-05-6.4961e-03j,\n",
      "          1.2140e-01+2.9104e-10j, -1.8653e-02+1.4163e-02j,\n",
      "         -1.9387e-02-6.3172e-03j,  1.9349e-02+1.1602e-02j],\n",
      "        [-1.7976e-03+1.7898e-02j, -3.0359e-02-1.5173e-02j,\n",
      "          3.2808e-03-1.0917e-02j,  1.3171e-02+2.5536e-02j,\n",
      "         -1.8653e-02-1.4163e-02j,  2.1011e-01+2.8522e-09j,\n",
      "          1.6238e-02+6.4222e-02j,  3.2716e-02+1.0270e-02j],\n",
      "        [ 3.8720e-02+2.4648e-02j,  6.0536e-07+1.1808e-02j,\n",
      "         -2.4675e-02-6.2756e-03j,  6.8312e-03-1.7565e-03j,\n",
      "         -1.9387e-02+6.3172e-03j,  1.6238e-02-6.4222e-02j,\n",
      "          2.1975e-01+3.9581e-09j,  2.0245e-02-1.7111e-02j],\n",
      "        [-1.6118e-04+1.2286e-02j,  2.3968e-04+1.2422e-02j,\n",
      "          4.8119e-04-1.9829e-03j, -4.2621e-03+4.8985e-03j,\n",
      "          1.9349e-02-1.1602e-02j,  3.2716e-02-1.0270e-02j,\n",
      "          2.0245e-02+1.7111e-02j,  1.4592e-01+2.3283e-10j]],\n",
      "       grad_fn=<AddBackward0>), tensor([[ 0.1052+2.6776e-09j,  0.0100-8.2831e-03j, -0.0524-1.0720e-02j,\n",
      "          0.0019+8.4779e-04j, -0.0721+2.6863e-02j,  0.0065-2.9069e-03j,\n",
      "          0.0792-4.9021e-02j,  0.0104-1.8863e-02j],\n",
      "        [ 0.0100+8.2831e-03j,  0.0550+4.0745e-10j,  0.0045-5.1623e-03j,\n",
      "         -0.0681+6.8285e-03j,  0.0056-1.1062e-02j, -0.0963+6.9014e-02j,\n",
      "          0.0207-4.4459e-03j,  0.0058+1.6948e-02j],\n",
      "        [-0.0524+1.0720e-02j,  0.0045+5.1623e-03j,  0.0431+5.3660e-11j,\n",
      "         -0.0141-6.7146e-04j,  0.0511-2.9378e-02j, -0.0136+9.6382e-03j,\n",
      "         -0.0322+2.7253e-02j, -0.0053+1.2291e-02j],\n",
      "        [ 0.0019-8.4779e-04j, -0.0681-6.8285e-03j, -0.0141+6.7146e-04j,\n",
      "          0.1133+5.2387e-09j, -0.0132+1.2381e-02j,  0.1163-8.6083e-02j,\n",
      "         -0.0122+5.7235e-03j,  0.0070-2.5949e-02j],\n",
      "        [-0.0721-2.6863e-02j,  0.0056+1.1062e-02j,  0.0511+2.9378e-02j,\n",
      "         -0.0132-1.2381e-02j,  0.1361+3.3324e-09j, -0.0448-2.1746e-03j,\n",
      "         -0.0808+2.0448e-02j, -0.0183+1.7581e-02j],\n",
      "        [ 0.0065+2.9069e-03j, -0.0963-6.9014e-02j, -0.0136-9.6382e-03j,\n",
      "          0.1163+8.6083e-02j, -0.0448+2.1746e-03j,  0.3576-1.3861e-09j,\n",
      "         -0.0251-7.1058e-05j,  0.0306-4.5218e-02j],\n",
      "        [ 0.0792+4.9021e-02j,  0.0207+4.4459e-03j, -0.0322-2.7253e-02j,\n",
      "         -0.0122-5.7235e-03j, -0.0808-2.0448e-02j, -0.0251+7.1044e-05j,\n",
      "          0.1575+6.9849e-10j,  0.0257-1.3485e-02j],\n",
      "        [ 0.0104+1.8863e-02j,  0.0058-1.6948e-02j, -0.0053-1.2291e-02j,\n",
      "          0.0070+2.5949e-02j, -0.0183-1.7581e-02j,  0.0306+4.5218e-02j,\n",
      "          0.0257+1.3485e-02j,  0.0323-1.4643e-09j]], grad_fn=<AddBackward0>)]\n"
     ]
    }
   ],
   "source": [
    "from functools import reduce\n",
    "# 构建量子线路QC3，对两个输入相同维度的量子态进行类Sum操作\n",
    "QC3 = Cir_Sum(n_qubits=Nqubits*2)\n",
    "\n",
    "# 两个相同维度的态相互作用\n",
    "def sum_two_state(qin1,qin2):\n",
    "    \"对两个相同维度的态，做Sum的量子线路融合\"\n",
    "    qin = torch.kron(qin1,qin2)\n",
    "    return ptrace(QC3.forward(qin), Nqubits, Nqubits)\n",
    "\n",
    "q_out = []\n",
    "for i in range(num_of_vertex):\n",
    "    qi_out = reduce(sum_two_state, qax[i])\n",
    "    q_out.append(qi_out)\n",
    "\n",
    "print(q_out)"
   ]
  },
  {
   "cell_type": "code",
   "execution_count": 12,
   "id": "bf0c5cb1-d77b-4b75-82db-0a5d7bfe4cc7",
   "metadata": {},
   "outputs": [
    {
     "name": "stdout",
     "output_type": "stream",
     "text": [
      "量子态输出： 3\n"
     ]
    }
   ],
   "source": [
    "print(\"量子态输出：\",qax_out.__len__())\n",
    "# print(qax_out)\n",
    "# print(qax_out[0].size())"
   ]
  },
  {
   "cell_type": "code",
   "execution_count": 14,
   "id": "02288dd2-afde-42de-b8e3-ade0e6294d11",
   "metadata": {},
   "outputs": [
    {
     "data": {
      "text/plain": [
       "tensor([-0.7185-0.0162j, -0.0461+0.0799j,  0.6201-0.1900j,  0.7872-0.3516j,\n",
       "         0.2272+0.1758j,  0.4164-0.0359j,  0.5210-0.1336j,  0.9367-0.1919j],\n",
       "       grad_fn=<AddBackward0>)"
      ]
     },
     "execution_count": 14,
     "metadata": {},
     "output_type": "execute_result"
    }
   ],
   "source": [
    "sum(qax_out[0] - q_out[0])"
   ]
  },
  {
   "cell_type": "code",
   "execution_count": null,
   "id": "4e399dfa-fe95-42a8-bea0-ff4fa08415b6",
   "metadata": {},
   "outputs": [],
   "source": []
  },
  {
   "cell_type": "code",
   "execution_count": null,
   "id": "7d9031bc-e95a-45bf-a933-cd6d0250d166",
   "metadata": {},
   "outputs": [],
   "source": []
  }
 ],
 "metadata": {
  "kernelspec": {
   "display_name": "Python 3",
   "language": "python",
   "name": "python3"
  },
  "language_info": {
   "codemirror_mode": {
    "name": "ipython",
    "version": 3
   },
   "file_extension": ".py",
   "mimetype": "text/x-python",
   "name": "python",
   "nbconvert_exporter": "python",
   "pygments_lexer": "ipython3",
   "version": "3.8.10"
  }
 },
 "nbformat": 4,
 "nbformat_minor": 5
}
