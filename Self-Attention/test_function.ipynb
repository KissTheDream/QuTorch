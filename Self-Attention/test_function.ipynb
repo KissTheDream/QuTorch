{
 "cells": [
  {
   "cell_type": "code",
   "execution_count": 1,
   "id": "af721e93-50c5-43db-af88-50225a90a83c",
   "metadata": {},
   "outputs": [],
   "source": [
    "import torch\n",
    "import numpy as np\n",
    "import QuSelfAttn as Q"
   ]
  },
  {
   "cell_type": "code",
   "execution_count": 2,
   "id": "009b922a-5635-4a97-991f-7d0258597d01",
   "metadata": {},
   "outputs": [],
   "source": [
    "qc = Q.Circuit(3)"
   ]
  },
  {
   "cell_type": "code",
   "execution_count": 3,
   "id": "7b6338f2-4592-4c57-92fe-0e5929899540",
   "metadata": {},
   "outputs": [],
   "source": [
    "# qc.rx(2,0.5)"
   ]
  },
  {
   "cell_type": "code",
   "execution_count": 4,
   "id": "a98f01fd-fed8-49e1-8c27-da20daf9be0e",
   "metadata": {},
   "outputs": [],
   "source": [
    "# qc.ry(1,1)"
   ]
  },
  {
   "cell_type": "code",
   "execution_count": 5,
   "id": "36723e1e-1c56-42b6-8bbf-ad658309e550",
   "metadata": {},
   "outputs": [],
   "source": [
    "# qc.rz(1,1)"
   ]
  },
  {
   "cell_type": "code",
   "execution_count": 6,
   "id": "cf3d30e6-2aa1-43a5-ab64-a414eb5389cf",
   "metadata": {},
   "outputs": [],
   "source": [
    "qc.Hcz(1,1)"
   ]
  },
  {
   "cell_type": "code",
   "execution_count": 7,
   "id": "ca23f59b-1724-4ebf-aa4e-49ae177b9825",
   "metadata": {},
   "outputs": [],
   "source": [
    "# qc.z_gate(1)"
   ]
  },
  {
   "cell_type": "code",
   "execution_count": 8,
   "id": "18621b37-2da1-4150-bc3a-56deb6d0ae68",
   "metadata": {},
   "outputs": [],
   "source": [
    "# qc.rxx(1,1)"
   ]
  },
  {
   "cell_type": "code",
   "execution_count": 9,
   "id": "97ad5a3f-b902-4602-a3a6-5e8e092f99be",
   "metadata": {},
   "outputs": [],
   "source": [
    "# qc.cnot(1,2)"
   ]
  },
  {
   "cell_type": "code",
   "execution_count": 10,
   "id": "44c36b60-eeb5-456b-85a1-238612ddd715",
   "metadata": {},
   "outputs": [
    {
     "name": "stdout",
     "output_type": "stream",
     "text": [
      "\n",
      " gate in sequence is : [{'gate': 'I', 'theta': None, 'which_qubit': 1}, {'gate': 'Z', 'theta': None, 'which_qubit': 1}]\n"
     ]
    }
   ],
   "source": [
    "qc.show_gates()"
   ]
  },
  {
   "cell_type": "code",
   "execution_count": 11,
   "id": "078344cb-6c15-44b7-b590-be33a63d7b1f",
   "metadata": {},
   "outputs": [
    {
     "data": {
      "text/plain": [
       "[{'gate': 'I', 'theta': None, 'which_qubit': 1},\n",
       " {'gate': 'Z', 'theta': None, 'which_qubit': 1}]"
      ]
     },
     "execution_count": 11,
     "metadata": {},
     "output_type": "execute_result"
    }
   ],
   "source": [
    "qc.gate_list"
   ]
  },
  {
   "cell_type": "code",
   "execution_count": 12,
   "id": "2f6ab6d5-3cbd-4091-8d3f-3bc7cf01ce31",
   "metadata": {},
   "outputs": [
    {
     "name": "stdout",
     "output_type": "stream",
     "text": [
      "\n",
      " index: 0\n",
      " gate_list:{'gate': 'I', 'theta': None, 'which_qubit': 1}\n",
      " gate_matrix: tensor([[1.+0.j, 0.+0.j],\n",
      "        [0.+0.j, 1.+0.j]])\n",
      " circuit_matrix: tensor([[1.+0.j, 0.+0.j, 0.+0.j, 0.+0.j, 0.+0.j, 0.+0.j, 0.+0.j, 0.+0.j],\n",
      "        [0.+0.j, 1.+0.j, 0.+0.j, 0.+0.j, 0.+0.j, 0.+0.j, 0.+0.j, 0.+0.j],\n",
      "        [0.+0.j, 0.+0.j, 1.+0.j, 0.+0.j, 0.+0.j, 0.+0.j, 0.+0.j, 0.+0.j],\n",
      "        [0.+0.j, 0.+0.j, 0.+0.j, 1.+0.j, 0.+0.j, 0.+0.j, 0.+0.j, 0.+0.j],\n",
      "        [0.+0.j, 0.+0.j, 0.+0.j, 0.+0.j, 1.+0.j, 0.+0.j, 0.+0.j, 0.+0.j],\n",
      "        [0.+0.j, 0.+0.j, 0.+0.j, 0.+0.j, 0.+0.j, 1.+0.j, 0.+0.j, 0.+0.j],\n",
      "        [0.+0.j, 0.+0.j, 0.+0.j, 0.+0.j, 0.+0.j, 0.+0.j, 1.+0.j, 0.+0.j],\n",
      "        [0.+0.j, 0.+0.j, 0.+0.j, 0.+0.j, 0.+0.j, 0.+0.j, 0.+0.j, 1.+0.j]])\n",
      " U: tensor([[1.+0.j, 0.+0.j, 0.+0.j, 0.+0.j, 0.+0.j, 0.+0.j, 0.+0.j, 0.+0.j],\n",
      "        [0.+0.j, 1.+0.j, 0.+0.j, 0.+0.j, 0.+0.j, 0.+0.j, 0.+0.j, 0.+0.j],\n",
      "        [0.+0.j, 0.+0.j, 1.+0.j, 0.+0.j, 0.+0.j, 0.+0.j, 0.+0.j, 0.+0.j],\n",
      "        [0.+0.j, 0.+0.j, 0.+0.j, 1.+0.j, 0.+0.j, 0.+0.j, 0.+0.j, 0.+0.j],\n",
      "        [0.+0.j, 0.+0.j, 0.+0.j, 0.+0.j, 1.+0.j, 0.+0.j, 0.+0.j, 0.+0.j],\n",
      "        [0.+0.j, 0.+0.j, 0.+0.j, 0.+0.j, 0.+0.j, 1.+0.j, 0.+0.j, 0.+0.j],\n",
      "        [0.+0.j, 0.+0.j, 0.+0.j, 0.+0.j, 0.+0.j, 0.+0.j, 1.+0.j, 0.+0.j],\n",
      "        [0.+0.j, 0.+0.j, 0.+0.j, 0.+0.j, 0.+0.j, 0.+0.j, 0.+0.j, 1.+0.j]])\n",
      "\n",
      " index: 1\n",
      " gate_list:{'gate': 'Z', 'theta': None, 'which_qubit': 1}\n",
      " gate_matrix: tensor([[ 1.+0.j,  0.+0.j],\n",
      "        [ 0.+0.j, -1.+0.j]])\n",
      " circuit_matrix: tensor([[ 1.+0.j,  0.+0.j,  0.+0.j,  0.+0.j,  0.+0.j,  0.+0.j,  0.+0.j,  0.+0.j],\n",
      "        [ 0.+0.j,  1.+0.j,  0.+0.j,  0.+0.j,  0.+0.j,  0.+0.j,  0.+0.j,  0.+0.j],\n",
      "        [ 0.+0.j,  0.+0.j, -1.+0.j, -0.+0.j,  0.+0.j,  0.+0.j, -0.+0.j, -0.+0.j],\n",
      "        [ 0.+0.j,  0.+0.j, -0.+0.j, -1.+0.j,  0.+0.j,  0.+0.j, -0.+0.j, -0.+0.j],\n",
      "        [ 0.+0.j,  0.+0.j,  0.+0.j,  0.+0.j,  1.+0.j,  0.+0.j,  0.+0.j,  0.+0.j],\n",
      "        [ 0.+0.j,  0.+0.j,  0.+0.j,  0.+0.j,  0.+0.j,  1.+0.j,  0.+0.j,  0.+0.j],\n",
      "        [ 0.+0.j,  0.+0.j, -0.+0.j, -0.+0.j,  0.+0.j,  0.+0.j, -1.+0.j, -0.+0.j],\n",
      "        [ 0.+0.j,  0.+0.j, -0.+0.j, -0.+0.j,  0.+0.j,  0.+0.j, -0.+0.j, -1.+0.j]])\n",
      " U: tensor([[ 1.+0.j,  0.+0.j,  0.+0.j,  0.+0.j,  0.+0.j,  0.+0.j,  0.+0.j,  0.+0.j],\n",
      "        [ 0.+0.j,  1.+0.j,  0.+0.j,  0.+0.j,  0.+0.j,  0.+0.j,  0.+0.j,  0.+0.j],\n",
      "        [ 0.+0.j,  0.+0.j, -1.+0.j,  0.+0.j,  0.+0.j,  0.+0.j,  0.+0.j,  0.+0.j],\n",
      "        [ 0.+0.j,  0.+0.j,  0.+0.j, -1.+0.j,  0.+0.j,  0.+0.j,  0.+0.j,  0.+0.j],\n",
      "        [ 0.+0.j,  0.+0.j,  0.+0.j,  0.+0.j,  1.+0.j,  0.+0.j,  0.+0.j,  0.+0.j],\n",
      "        [ 0.+0.j,  0.+0.j,  0.+0.j,  0.+0.j,  0.+0.j,  1.+0.j,  0.+0.j,  0.+0.j],\n",
      "        [ 0.+0.j,  0.+0.j,  0.+0.j,  0.+0.j,  0.+0.j,  0.+0.j, -1.+0.j,  0.+0.j],\n",
      "        [ 0.+0.j,  0.+0.j,  0.+0.j,  0.+0.j,  0.+0.j,  0.+0.j,  0.+0.j, -1.+0.j]])\n"
     ]
    }
   ],
   "source": [
    "qc.read_gate()"
   ]
  },
  {
   "cell_type": "code",
   "execution_count": 13,
   "id": "3e905abb-978d-4cf6-a9f1-a6db2e616b8f",
   "metadata": {},
   "outputs": [
    {
     "data": {
      "text/plain": [
       "tensor([[ 1.+0.j,  0.+0.j,  0.+0.j,  0.+0.j,  0.+0.j,  0.+0.j,  0.+0.j,  0.+0.j],\n",
       "        [ 0.+0.j,  1.+0.j,  0.+0.j,  0.+0.j,  0.+0.j,  0.+0.j,  0.+0.j,  0.+0.j],\n",
       "        [ 0.+0.j,  0.+0.j, -1.+0.j,  0.+0.j,  0.+0.j,  0.+0.j,  0.+0.j,  0.+0.j],\n",
       "        [ 0.+0.j,  0.+0.j,  0.+0.j, -1.+0.j,  0.+0.j,  0.+0.j,  0.+0.j,  0.+0.j],\n",
       "        [ 0.+0.j,  0.+0.j,  0.+0.j,  0.+0.j,  1.+0.j,  0.+0.j,  0.+0.j,  0.+0.j],\n",
       "        [ 0.+0.j,  0.+0.j,  0.+0.j,  0.+0.j,  0.+0.j,  1.+0.j,  0.+0.j,  0.+0.j],\n",
       "        [ 0.+0.j,  0.+0.j,  0.+0.j,  0.+0.j,  0.+0.j,  0.+0.j, -1.+0.j,  0.+0.j],\n",
       "        [ 0.+0.j,  0.+0.j,  0.+0.j,  0.+0.j,  0.+0.j,  0.+0.j,  0.+0.j, -1.+0.j]])"
      ]
     },
     "execution_count": 13,
     "metadata": {},
     "output_type": "execute_result"
    }
   ],
   "source": [
    "qc.U "
   ]
  },
  {
   "cell_type": "code",
   "execution_count": null,
   "id": "447716c7-b6b0-4db2-a6b4-6313746505cb",
   "metadata": {},
   "outputs": [],
   "source": []
  },
  {
   "cell_type": "code",
   "execution_count": null,
   "id": "429dfe5f-6b62-4002-a00c-c018139ed4ea",
   "metadata": {},
   "outputs": [],
   "source": []
  },
  {
   "cell_type": "code",
   "execution_count": null,
   "id": "52cc4d70-9ee6-425c-acb7-1176740130e9",
   "metadata": {},
   "outputs": [],
   "source": []
  }
 ],
 "metadata": {
  "kernelspec": {
   "display_name": "Python 3",
   "language": "python",
   "name": "python3"
  },
  "language_info": {
   "codemirror_mode": {
    "name": "ipython",
    "version": 3
   },
   "file_extension": ".py",
   "mimetype": "text/x-python",
   "name": "python",
   "nbconvert_exporter": "python",
   "pygments_lexer": "ipython3",
   "version": "3.8.10"
  },
  "toc-autonumbering": true,
  "toc-showcode": false,
  "toc-showmarkdowntxt": true,
  "toc-showtags": true
 },
 "nbformat": 4,
 "nbformat_minor": 5
}
