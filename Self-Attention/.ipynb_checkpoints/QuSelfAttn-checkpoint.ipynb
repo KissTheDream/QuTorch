{
 "cells": [
  {
   "cell_type": "code",
   "execution_count": 1,
   "id": "e3e61e9f-fa26-422d-b47b-e0e01b206322",
   "metadata": {},
   "outputs": [],
   "source": [
    "import QuSelfAttn as Q"
   ]
  },
  {
   "cell_type": "markdown",
   "id": "576dff46-8201-4ec5-abc4-ea6121dd5822",
   "metadata": {},
   "source": [
    "## self-attention practice"
   ]
  },
  {
   "cell_type": "code",
   "execution_count": 8,
   "id": "b6c852e0-06f8-4e8f-93b5-c5c034c98587",
   "metadata": {},
   "outputs": [],
   "source": [
    "cir = Q.QEqualizedConv0(4)"
   ]
  },
  {
   "cell_type": "code",
   "execution_count": 9,
   "id": "240d2fd6-f1a4-477b-8a9d-9d44ca8a0414",
   "metadata": {},
   "outputs": [
    {
     "name": "stdout",
     "output_type": "stream",
     "text": [
      "n_qubits:4\n"
     ]
    }
   ],
   "source": [
    "print(f\"n_qubits:{cir.n_qubits}\")"
   ]
  },
  {
   "cell_type": "code",
   "execution_count": 15,
   "id": "835da49b-8a1c-44bb-8adb-394a01bc26aa",
   "metadata": {},
   "outputs": [],
   "source": [
    "U = cir.qconv0()\n",
    "# print(U.shape)\n",
    "# print(U)"
   ]
  },
  {
   "cell_type": "code",
   "execution_count": null,
   "id": "e664a0c9-95ed-4317-b380-9f796d208ba5",
   "metadata": {},
   "outputs": [],
   "source": [
    "cir.forward"
   ]
  },
  {
   "cell_type": "code",
   "execution_count": null,
   "id": "8f199afb-9999-49f5-9918-937bfb450a53",
   "metadata": {},
   "outputs": [],
   "source": []
  },
  {
   "cell_type": "code",
   "execution_count": null,
   "id": "a8297a66-ac5a-4865-a795-f65ee7b4516a",
   "metadata": {},
   "outputs": [],
   "source": []
  },
  {
   "cell_type": "code",
   "execution_count": null,
   "id": "bdb7cf5d-6f3c-48ac-a599-3959b4d7e520",
   "metadata": {},
   "outputs": [],
   "source": [
    "# nn.Parameter?\n",
    "QT = self_attn(3)\n",
    "QT.weight"
   ]
  },
  {
   "cell_type": "markdown",
   "id": "c3663461-3c0a-4cda-ac46-21d7a2b96f7c",
   "metadata": {},
   "source": [
    "## prepare initial data (classical)\n",
    "### Input 1: [1， 0， 1， 0]; Input 2: [0， 2， 0， 2]; Input 3: [1， 1， 1， 1];"
   ]
  },
  {
   "cell_type": "code",
   "execution_count": null,
   "id": "87add62a-afb3-49c8-a993-f9345a0e3446",
   "metadata": {},
   "outputs": [],
   "source": [
    "input01 = torch.Tensor([1, 0, 1, 0])\n",
    "input02 = torch.Tensor([0, 2, 0, 2])\n",
    "input03 = torch.Tensor([1, 1, 1, 1])"
   ]
  },
  {
   "cell_type": "code",
   "execution_count": null,
   "id": "ebdca432-14a2-4996-bc2c-1556a79bba4e",
   "metadata": {},
   "outputs": [],
   "source": [
    "### initialize weight"
   ]
  },
  {
   "cell_type": "code",
   "execution_count": null,
   "id": "b33c90e0-eccf-4331-b533-70e3915ef59e",
   "metadata": {},
   "outputs": [],
   "source": [
    "qinput01 = encoding()\n"
   ]
  }
 ],
 "metadata": {
  "kernelspec": {
   "display_name": "Python 3",
   "language": "python",
   "name": "python3"
  },
  "language_info": {
   "codemirror_mode": {
    "name": "ipython",
    "version": 3
   },
   "file_extension": ".py",
   "mimetype": "text/x-python",
   "name": "python",
   "nbconvert_exporter": "python",
   "pygments_lexer": "ipython3",
   "version": "3.8.10"
  }
 },
 "nbformat": 4,
 "nbformat_minor": 5
}
