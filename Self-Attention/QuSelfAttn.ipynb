{
 "cells": [
  {
   "cell_type": "code",
   "execution_count": 8,
   "id": "e3e61e9f-fa26-422d-b47b-e0e01b206322",
   "metadata": {},
   "outputs": [],
   "source": [
    "import torch\n",
    "import numpy as np\n",
    "import QuSelfAttn as Q"
   ]
  },
  {
   "cell_type": "markdown",
   "id": "576dff46-8201-4ec5-abc4-ea6121dd5822",
   "metadata": {},
   "source": [
    "## self-attention practice"
   ]
  },
  {
   "cell_type": "code",
   "execution_count": 9,
   "id": "b6c852e0-06f8-4e8f-93b5-c5c034c98587",
   "metadata": {},
   "outputs": [],
   "source": [
    "cir = Q.QEqualizedConv0(2)"
   ]
  },
  {
   "cell_type": "code",
   "execution_count": 10,
   "id": "240d2fd6-f1a4-477b-8a9d-9d44ca8a0414",
   "metadata": {},
   "outputs": [
    {
     "name": "stdout",
     "output_type": "stream",
     "text": [
      "n_qubits:2\n"
     ]
    }
   ],
   "source": [
    "print(f\"n_qubits:{cir.n_qubits}\")"
   ]
  },
  {
   "cell_type": "code",
   "execution_count": 11,
   "id": "835da49b-8a1c-44bb-8adb-394a01bc26aa",
   "metadata": {},
   "outputs": [
    {
     "name": "stdout",
     "output_type": "stream",
     "text": [
      "torch.Size([4, 4])\n",
      "tensor([[ 0.3391+0.3352j, -0.2237-0.3045j, -0.4811-0.3944j,  0.3275+0.3684j],\n",
      "        [ 0.0470+0.3749j, -0.0156+0.4766j, -0.1065-0.4813j, -0.0375-0.6209j],\n",
      "        [ 0.0375-0.6209j, -0.1065+0.4813j, -0.0156-0.4766j, -0.0470+0.3749j],\n",
      "        [ 0.3275-0.3684j,  0.4811-0.3944j,  0.2237-0.3045j,  0.3391-0.3352j]],\n",
      "       grad_fn=<MmBackward>)\n"
     ]
    }
   ],
   "source": [
    "U = cir.qconv0()\n",
    "print(U.shape)\n",
    "print(U)"
   ]
  },
  {
   "cell_type": "code",
   "execution_count": 13,
   "id": "0cd77c5c-579e-4cee-9159-61ac4931ea94",
   "metadata": {},
   "outputs": [
    {
     "name": "stdout",
     "output_type": "stream",
     "text": [
      "torch.Size([4, 4])\n",
      "tensor([[ 0.2550+0.6875j, -0.1141-0.5697j,  0.0133-0.2764j, -0.0447+0.2146j],\n",
      "        [-0.1779+0.5531j, -0.3312+0.6542j,  0.1436-0.1657j,  0.2118-0.1781j],\n",
      "        [-0.2118-0.1781j,  0.1436+0.1657j, -0.3312-0.6542j,  0.1779+0.5531j],\n",
      "        [-0.0447-0.2146j, -0.0133-0.2764j,  0.1141-0.5697j,  0.2550-0.6875j]],\n",
      "       grad_fn=<MmBackward>)\n"
     ]
    }
   ],
   "source": [
    "U2 = cir.qconv_q()\n",
    "print(U2.shape)\n",
    "print(U2)"
   ]
  },
  {
   "cell_type": "code",
   "execution_count": 14,
   "id": "237dab9e-7893-4d19-8787-362df771e2ab",
   "metadata": {},
   "outputs": [
    {
     "data": {
      "text/plain": [
       "tensor([[ 0.3391+0.3352j, -0.2237-0.3045j, -0.4811-0.3944j,  0.3275+0.3684j],\n",
       "        [ 0.0470+0.3749j, -0.0156+0.4766j, -0.1065-0.4813j, -0.0375-0.6209j],\n",
       "        [ 0.0375-0.6209j, -0.1065+0.4813j, -0.0156-0.4766j, -0.0470+0.3749j],\n",
       "        [ 0.3275-0.3684j,  0.4811-0.3944j,  0.2237-0.3045j,  0.3391-0.3352j]],\n",
       "       grad_fn=<MmBackward>)"
      ]
     },
     "execution_count": 14,
     "metadata": {},
     "output_type": "execute_result"
    }
   ],
   "source": [
    "cir.forward(U)"
   ]
  },
  {
   "cell_type": "code",
   "execution_count": 15,
   "id": "90442440-ea5d-457c-a904-4c451b9f681a",
   "metadata": {},
   "outputs": [
    {
     "data": {
      "text/plain": [
       "tensor([[-0.0868-0.0948j,  0.0562+0.0850j, -0.5850-0.5055j,  0.3950+0.4683j],\n",
       "        [-0.0076-0.1016j,  0.0106-0.1282j, -0.1168-0.6014j, -0.0265-0.7727j],\n",
       "        [ 0.0265-0.7727j, -0.1168+0.6014j,  0.0106+0.1282j,  0.0076-0.1016j],\n",
       "        [ 0.3950-0.4683j,  0.5850-0.5055j, -0.0562+0.0850j, -0.0868+0.0948j]],\n",
       "       grad_fn=<MmBackward>)"
      ]
     },
     "execution_count": 15,
     "metadata": {},
     "output_type": "execute_result"
    }
   ],
   "source": [
    "cir.forward(U2)"
   ]
  },
  {
   "cell_type": "markdown",
   "id": "0641f702-86f7-49d2-8735-5a2b81c3bc8c",
   "metadata": {},
   "source": [
    "## prepare initial data (classical)\n",
    "### Input 1: [1， 0， 1， 0]; Input 2: [0， 2， 0， 2]; Input 3: [1， 1， 1， 1];"
   ]
  },
  {
   "cell_type": "code",
   "execution_count": 5,
   "id": "ed92ed18-0c16-4a3c-80e3-75e2e9644c35",
   "metadata": {},
   "outputs": [],
   "source": [
    "input01 = torch.Tensor([1, 0, 1, 0])\n",
    "input02 = torch.Tensor([0, 2, 0, 2])\n",
    "input03 = torch.Tensor([1, 1, 1, 1])"
   ]
  },
  {
   "cell_type": "code",
   "execution_count": 6,
   "id": "84f97bc2-1298-4de4-b06d-2fe8d28ca20d",
   "metadata": {},
   "outputs": [
    {
     "data": {
      "text/plain": [
       "tensor([[ 0.0935+2.7940e-09j, -0.0914-7.7199e-04j,  0.0006-1.9765e-01j,\n",
       "         -0.0022+1.9318e-01j],\n",
       "        [-0.0914+7.7199e-04j,  0.0893-1.8626e-09j,  0.0011+1.9319e-01j,\n",
       "          0.0006-1.8884e-01j],\n",
       "        [ 0.0006+1.9765e-01j,  0.0011-1.9319e-01j,  0.4179+0.0000e+00j,\n",
       "         -0.4085-3.4515e-03j],\n",
       "        [-0.0022-1.9318e-01j,  0.0006+1.8884e-01j, -0.4085+3.4515e-03j,\n",
       "          0.3993-1.8626e-09j]], grad_fn=<MmBackward>)"
      ]
     },
     "execution_count": 6,
     "metadata": {},
     "output_type": "execute_result"
    }
   ],
   "source": [
    "qinput01 = Q.vector2rho(input01)\n",
    "\n",
    "cir.forward(qinput01)"
   ]
  },
  {
   "cell_type": "code",
   "execution_count": null,
   "id": "19288700-bb89-4f98-8735-75b870d29957",
   "metadata": {},
   "outputs": [],
   "source": [
    "one_query = "
   ]
  },
  {
   "cell_type": "code",
   "execution_count": null,
   "id": "e22e0292-5908-40ee-bddb-80dc78ee5279",
   "metadata": {},
   "outputs": [],
   "source": [
    "one_key = "
   ]
  },
  {
   "cell_type": "code",
   "execution_count": null,
   "id": "c9a553bf-25ef-4529-826c-03bb75b7f61f",
   "metadata": {},
   "outputs": [],
   "source": [
    "one_value = "
   ]
  },
  {
   "cell_type": "code",
   "execution_count": 7,
   "id": "d7235914-3a3a-4411-b8a4-d02b6dcae3df",
   "metadata": {},
   "outputs": [
    {
     "data": {
      "text/plain": [
       "tensor([[ 0.0893+3.7253e-09j,  0.0914+7.7201e-04j,  0.0006-1.8884e-01j,\n",
       "          0.0022-1.9318e-01j],\n",
       "        [ 0.0914-7.7201e-04j,  0.0935-2.7940e-09j, -0.0011-1.9319e-01j,\n",
       "          0.0006-1.9765e-01j],\n",
       "        [ 0.0006+1.8884e-01j, -0.0011+1.9319e-01j,  0.3993-7.4506e-09j,\n",
       "          0.4085+3.4515e-03j],\n",
       "        [ 0.0022+1.9318e-01j,  0.0006+1.9765e-01j,  0.4085-3.4515e-03j,\n",
       "          0.4179-1.1176e-08j]], grad_fn=<MmBackward>)"
      ]
     },
     "execution_count": 7,
     "metadata": {},
     "output_type": "execute_result"
    }
   ],
   "source": [
    "qinput02 = Q.vector2rho(input02)\n",
    "\n",
    "cir.forward(qinput02)"
   ]
  },
  {
   "cell_type": "code",
   "execution_count": 8,
   "id": "18e286ed-6724-49dd-8e77-4fe34d8bffe1",
   "metadata": {},
   "outputs": [
    {
     "data": {
      "text/plain": [
       "tensor([[ 1.8152e-01-3.9581e-09j,  2.1800e-03-1.4971e-02j,\n",
       "          1.1281e-03-3.8382e-01j, -3.1643e-02-4.7025e-03j],\n",
       "        [ 2.1800e-03+1.4971e-02j,  1.2610e-03+0.0000e+00j,\n",
       "          3.1670e-02-4.5164e-03j,  7.8361e-06-2.6662e-03j],\n",
       "        [ 1.1281e-03+3.8382e-01j,  3.1670e-02+4.5164e-03j,\n",
       "          8.1158e-01+9.3132e-10j,  9.7465e-03-6.6936e-02j],\n",
       "        [-3.1643e-02+4.7025e-03j,  7.8364e-06+2.6662e-03j,\n",
       "          9.7465e-03+6.6936e-02j,  5.6377e-03+6.9849e-10j]],\n",
       "       grad_fn=<MmBackward>)"
      ]
     },
     "execution_count": 8,
     "metadata": {},
     "output_type": "execute_result"
    }
   ],
   "source": [
    "qinput03 = Q.vector2rho(input03)\n",
    "\n",
    "cir.forward(qinput03)"
   ]
  },
  {
   "cell_type": "markdown",
   "id": "e2583209-3382-4167-90d2-2d04cd214d52",
   "metadata": {},
   "source": [
    "量子线路的构建方法需要变化"
   ]
  },
  {
   "cell_type": "code",
   "execution_count": null,
   "id": "80549390-28fe-4918-83d0-e7fceb1688c4",
   "metadata": {},
   "outputs": [],
   "source": []
  },
  {
   "cell_type": "code",
   "execution_count": null,
   "id": "a8297a66-ac5a-4865-a795-f65ee7b4516a",
   "metadata": {},
   "outputs": [],
   "source": []
  }
 ],
 "metadata": {
  "kernelspec": {
   "display_name": "Python 3",
   "language": "python",
   "name": "python3"
  },
  "language_info": {
   "codemirror_mode": {
    "name": "ipython",
    "version": 3
   },
   "file_extension": ".py",
   "mimetype": "text/x-python",
   "name": "python",
   "nbconvert_exporter": "python",
   "pygments_lexer": "ipython3",
   "version": "3.8.10"
  }
 },
 "nbformat": 4,
 "nbformat_minor": 5
}
