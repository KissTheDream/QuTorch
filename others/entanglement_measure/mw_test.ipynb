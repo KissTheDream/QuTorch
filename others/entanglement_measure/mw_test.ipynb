{
 "cells": [
  {
   "cell_type": "code",
   "execution_count": 1,
   "id": "ed63cb43-75b3-4aec-91f8-7104f6446925",
   "metadata": {},
   "outputs": [],
   "source": [
    "from entanglement_measure import *\n",
    "from math import pi\n",
    "import random"
   ]
  },
  {
   "cell_type": "code",
   "execution_count": 2,
   "id": "41ac206a-7127-482f-a2b3-ec50cc61d5e8",
   "metadata": {
    "tags": []
   },
   "outputs": [],
   "source": [
    "def multi_kron(x_list):  # fixme QuTip tensor\n",
    "    \"\"\"\n",
    "    kron the data in the list in order\n",
    "    \"\"\"\n",
    "    x_k = torch.ones(1)\n",
    "    for x in x_list:\n",
    "        x_k = torch.kron(x_k, x)\n",
    "    return x_k\n",
    "\n",
    "def rx(theta):\n",
    "    \"\"\"Single-qubit rotation for operator sigmax with angle theta.\n",
    "    -------\n",
    "    result : torch.tensor for operator describing the rotation.\n",
    "    \"\"\"\n",
    "\n",
    "    return torch.cat((torch.cos(theta / 2).unsqueeze(dim = 0), -1j * torch.sin(theta / 2).unsqueeze(dim = 0), \n",
    "                      -1j * torch.sin(theta / 2).unsqueeze(dim = 0), torch.cos(theta / 2).unsqueeze(dim = 0)),dim = 0).reshape(2,-1)\n",
    "\n",
    "def ry(phi):\n",
    "    \"\"\"Single-qubit rotation for operator sigmay with angle phi.\n",
    "    -------\n",
    "    result : torch.tensor for operator describing the rotation.\n",
    "    \"\"\"\n",
    "\n",
    "    return torch.cat((torch.cos(phi / 2).unsqueeze(dim=0), -1 * torch.sin(phi / 2).unsqueeze(dim=0),\n",
    "                      torch.sin(phi / 2).unsqueeze(dim=0), torch.cos(phi / 2).unsqueeze(dim=0)), dim=0).reshape(2,\n",
    "                                                                                                                -1) + 0j\n",
    "\n",
    "\n",
    "def gate_expand_1toN(U, N, target):\n",
    "    \"\"\"\n",
    "    representing a one-qubit gate that act on a system with N qubits.\n",
    "\n",
    "    \"\"\"\n",
    "\n",
    "    if N < 1:\n",
    "        raise ValueError(\"integer N must be larger or equal to 1\")\n",
    "\n",
    "    if target >= N:\n",
    "        raise ValueError(\"target must be integer < integer N\")\n",
    "\n",
    "    return multi_kron([torch.eye(2)] * target + [U] + [torch.eye(2)] * (N - target - 1))\n"
   ]
  },
  {
   "cell_type": "markdown",
   "id": "beb90ab6-169f-428f-8806-5e1db7d9cb6c",
   "metadata": {},
   "source": [
    "# 创建随机态矢量"
   ]
  },
  {
   "cell_type": "code",
   "execution_count": 3,
   "id": "37d436d0-b37b-4966-9d1b-acaaa55858c0",
   "metadata": {},
   "outputs": [],
   "source": [
    "phi = torch.tensor([1 / math.sqrt(6), 0, 0, 1 / math.sqrt(6/5)])+0j"
   ]
  },
  {
   "cell_type": "raw",
   "id": "62aff479-2456-4048-bf13-8ff84515ae6e",
   "metadata": {},
   "source": [
    "random.random()"
   ]
  },
  {
   "cell_type": "code",
   "execution_count": 4,
   "id": "b9982f40-14ad-450d-9509-c4a892e05b53",
   "metadata": {},
   "outputs": [],
   "source": [
    "theta = torch.tensor(2*pi*random.random())\n",
    "U = gate_expand_1toN(ry(theta),2,1)"
   ]
  },
  {
   "cell_type": "code",
   "execution_count": 5,
   "id": "dcf7f90e-2069-4ffd-bc4a-ebd352d926c7",
   "metadata": {
    "tags": []
   },
   "outputs": [],
   "source": [
    "# phi.size()\n",
    "# phi.type()\n",
    "# # U.size()\n",
    "# # U.type()"
   ]
  },
  {
   "cell_type": "code",
   "execution_count": 6,
   "id": "e73f237d-a2d6-4ccd-84f2-06c88cdd9c41",
   "metadata": {
    "tags": []
   },
   "outputs": [
    {
     "name": "stdout",
     "output_type": "stream",
     "text": [
      "phi_i : tensor([0.4082+0.j, 0.0000+0.j, 0.0000+0.j, 0.9129+0.j])\n",
      "phi_o : tensor([ 0.3740+0.j, -0.1637+0.j,  0.3662+0.j,  0.8362+0.j])\n"
     ]
    }
   ],
   "source": [
    "phi_out = phi @ U\n",
    "print(\"phi_i :\", phi)\n",
    "print(\"phi_o :\", phi_out)"
   ]
  },
  {
   "cell_type": "markdown",
   "id": "1a208b1d-c2da-4ff8-a3e7-2754d318d411",
   "metadata": {},
   "source": [
    "# 测试纠缠度"
   ]
  },
  {
   "cell_type": "code",
   "execution_count": 7,
   "id": "7fba3f6a-b242-4351-8aa3-4f429901e60a",
   "metadata": {},
   "outputs": [
    {
     "data": {
      "text/plain": [
       "tensor(0.5556)"
      ]
     },
     "execution_count": 7,
     "metadata": {},
     "output_type": "execute_result"
    }
   ],
   "source": [
    "N = 2\n",
    "MW_entanglement_measure(phi,N)"
   ]
  },
  {
   "cell_type": "code",
   "execution_count": 8,
   "id": "425da9dc-0a94-4ed8-a33c-28b2b65b0dd0",
   "metadata": {},
   "outputs": [
    {
     "data": {
      "text/plain": [
       "tensor(0.5556)"
      ]
     },
     "execution_count": 8,
     "metadata": {},
     "output_type": "execute_result"
    }
   ],
   "source": [
    "MW_entanglement_measure(phi_out,N)"
   ]
  },
  {
   "cell_type": "code",
   "execution_count": null,
   "id": "8a18977f-5a03-436c-8f4b-2302ac834b3c",
   "metadata": {},
   "outputs": [],
   "source": []
  }
 ],
 "metadata": {
  "kernelspec": {
   "display_name": "Python 3",
   "language": "python",
   "name": "python3"
  },
  "language_info": {
   "codemirror_mode": {
    "name": "ipython",
    "version": 3
   },
   "file_extension": ".py",
   "mimetype": "text/x-python",
   "name": "python",
   "nbconvert_exporter": "python",
   "pygments_lexer": "ipython3",
   "version": "3.8.10"
  }
 },
 "nbformat": 4,
 "nbformat_minor": 5
}
